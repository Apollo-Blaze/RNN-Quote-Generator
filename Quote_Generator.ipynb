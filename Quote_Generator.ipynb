{
 "cells": [
  {
   "cell_type": "markdown",
   "id": "5534029c-a101-4ad4-92c1-08e667d3ba94",
   "metadata": {},
   "source": [
    "# Quote Generator Using RNN"
   ]
  },
  {
   "cell_type": "code",
   "execution_count": 1,
   "id": "b35fcea1-7613-4b07-a424-091d5326b42b",
   "metadata": {},
   "outputs": [],
   "source": [
    "import random\n",
    "import numpy as np\n",
    "import pandas as pd\n",
    "import tensorflow as tf\n",
    "from tensorflow.keras.models import Sequential\n",
    "from tensorflow.keras.layers import LSTM,Dense,Activation\n",
    "from tensorflow.keras.optimizers import RMSprop"
   ]
  },
  {
   "cell_type": "code",
   "execution_count": 24,
   "id": "0fbdf5c5-d765-4e12-9b33-b9709c6560b3",
   "metadata": {},
   "outputs": [],
   "source": [
    "filepath = r'C:\\Users\\Phantom\\Documents\\DS\\Projects\\train.txt'\n",
    "\n",
    "with open(filepath, 'rb') as file:\n",
    "    text = file.read().decode(encoding='utf-8').lower()\n",
    "\n",
    "len(text)\n",
    "text = text[:1000000]"
   ]
  },
  {
   "cell_type": "code",
   "execution_count": 26,
   "id": "6fe9949f-ee33-445a-9fea-ec36b7f9cbca",
   "metadata": {},
   "outputs": [],
   "source": [
    "characters=sorted(set(text))"
   ]
  },
  {
   "cell_type": "code",
   "execution_count": 28,
   "id": "0bac219a-cfe4-4c12-b390-2d0e917f26b3",
   "metadata": {},
   "outputs": [],
   "source": [
    "char_to_index=dict((c,i) for i,c in enumerate(characters))\n",
    "index_to_char=dict((i,c) for i,c in enumerate(characters))"
   ]
  },
  {
   "cell_type": "markdown",
   "id": "10e6dd37-7c89-4793-9f9e-7a4a3b2f089e",
   "metadata": {},
   "source": [
    "## Creating Feature Data and Prediction Data"
   ]
  },
  {
   "cell_type": "code",
   "execution_count": 30,
   "id": "0d0d003d-1e4c-48f5-8476-5ddc1ff3691c",
   "metadata": {},
   "outputs": [],
   "source": [
    "SEQ_LENGTH=50\n",
    "STEP_SIZE=3\n",
    "sentences=[]\n",
    "next_characters=[]\n",
    "for i in range(0,len(text)-SEQ_LENGTH,STEP_SIZE):\n",
    "    sentences.append(text[i:i+SEQ_LENGTH])\n",
    "    next_characters.append(text[i+SEQ_LENGTH])"
   ]
  },
  {
   "cell_type": "code",
   "execution_count": 32,
   "id": "391a370a-d4c7-4212-87e4-994ac1fa2dee",
   "metadata": {},
   "outputs": [],
   "source": [
    "x=np.zeros((len(sentences),SEQ_LENGTH,len(characters)),dtype=bool)\n",
    "y=np.zeros((len(sentences),len(characters)),dtype=bool)"
   ]
  },
  {
   "cell_type": "code",
   "execution_count": 34,
   "id": "cec0b72e-ba73-4515-900f-e80a0c4d2923",
   "metadata": {},
   "outputs": [],
   "source": [
    "for i, sentence in enumerate(sentences):\n",
    "    for t,character in enumerate(sentence):\n",
    "        x[i,t,char_to_index[character]]=1\n",
    "    y[i,char_to_index[next_characters[i]]]=1        "
   ]
  },
  {
   "cell_type": "markdown",
   "id": "11984fe0-2077-4622-acf1-6267b10cab08",
   "metadata": {},
   "source": [
    "## Creating Model"
   ]
  },
  {
   "cell_type": "code",
   "execution_count": 35,
   "id": "31f88330-07f1-41b8-92c4-4ea25a618848",
   "metadata": {},
   "outputs": [],
   "source": [
    "model=Sequential()\n",
    "\n",
    "model.add(LSTM(128,input_shape=(SEQ_LENGTH,len(characters))))\n",
    "model.add(Dense(len(characters)))\n",
    "model.add(Activation('softmax'))\n",
    "\n",
    "model.compile(loss='categorical_crossentropy',optimizer=RMSprop(learning_rate=0.01))"
   ]
  },
  {
   "cell_type": "code",
   "execution_count": 38,
   "id": "6c140aee-f021-4688-9b28-64b2379b90ff",
   "metadata": {},
   "outputs": [
    {
     "name": "stdout",
     "output_type": "stream",
     "text": [
      "Epoch 1/4\n",
      "\u001b[1m5209/5209\u001b[0m \u001b[32m━━━━━━━━━━━━━━━━━━━━\u001b[0m\u001b[37m\u001b[0m \u001b[1m149s\u001b[0m 28ms/step - loss: 2.0242\n",
      "Epoch 2/4\n",
      "\u001b[1m5209/5209\u001b[0m \u001b[32m━━━━━━━━━━━━━━━━━━━━\u001b[0m\u001b[37m\u001b[0m \u001b[1m151s\u001b[0m 29ms/step - loss: 1.5534\n",
      "Epoch 3/4\n",
      "\u001b[1m5209/5209\u001b[0m \u001b[32m━━━━━━━━━━━━━━━━━━━━\u001b[0m\u001b[37m\u001b[0m \u001b[1m128s\u001b[0m 25ms/step - loss: 1.4992\n",
      "Epoch 4/4\n",
      "\u001b[1m5209/5209\u001b[0m \u001b[32m━━━━━━━━━━━━━━━━━━━━\u001b[0m\u001b[37m\u001b[0m \u001b[1m128s\u001b[0m 25ms/step - loss: 1.4676\n"
     ]
    },
    {
     "data": {
      "text/plain": [
       "<keras.src.callbacks.history.History at 0x1b70c6e2c90>"
      ]
     },
     "execution_count": 38,
     "metadata": {},
     "output_type": "execute_result"
    }
   ],
   "source": [
    "model.fit(x,y,batch_size=64,epochs=4)"
   ]
  },
  {
   "cell_type": "code",
   "execution_count": 39,
   "id": "fc57125f-7bc0-4833-895d-112c684412e1",
   "metadata": {},
   "outputs": [],
   "source": [
    "model.save('quotegenerator.keras')"
   ]
  },
  {
   "cell_type": "code",
   "execution_count": 42,
   "id": "869b80aa-1402-4f20-8d7b-0febe3d14a9c",
   "metadata": {},
   "outputs": [],
   "source": [
    "def sample(preds,temperature=1.0):\n",
    "    preds=np.asarray(preds).astype('float64')\n",
    "    preds=np.log(preds)/temperature\n",
    "    exp_preds=np.exp(preds)\n",
    "    preds=exp_preds/np.sum(exp_preds)\n",
    "    probas=np.random.multinomial(1,preds,1)\n",
    "    return np.argmax(probas)"
   ]
  },
  {
   "cell_type": "code",
   "execution_count": 44,
   "id": "6880e2cb-d206-4329-94d4-3b8638b44c36",
   "metadata": {},
   "outputs": [],
   "source": [
    "def generate_text(length,temperature):\n",
    "    start_index=random.randint(0,len(text)-SEQ_LENGTH-1)\n",
    "    generated=''\n",
    "    sentence=text[start_index:start_index+SEQ_LENGTH]\n",
    "    generated+=sentence\n",
    "    for i in range(length):\n",
    "        x=np.zeros((1,SEQ_LENGTH,len(characters)))\n",
    "        for t,character in enumerate(sentence):\n",
    "            x[0,t,char_to_index[character]]=1\n",
    "        predictions=model.predict(x,verbose=0)[0]\n",
    "        next_index=sample(predictions,temperature)\n",
    "        next_character=index_to_char[next_index]\n",
    "\n",
    "        generated+=next_character\n",
    "        sentence=sentence[1:]+ next_character\n",
    "    return generated"
   ]
  },
  {
   "cell_type": "markdown",
   "id": "d6d53ed7-02b0-4dc6-befe-e4842cf93e70",
   "metadata": {},
   "source": [
    "## Predictions"
   ]
  },
  {
   "cell_type": "code",
   "execution_count": 56,
   "id": "58966280-2842-4bfb-bea4-ef158e76672c",
   "metadata": {},
   "outputs": [
    {
     "name": "stdout",
     "output_type": "stream",
     "text": [
      " my body when it is with yourbody. it is so quite that any senter of the face of the way and the strange of the strength, and the strange is a strange of the strength. i don't know it and the strange of the strange is not the strange of the strength, the strange is a happiness the strange is the strange of the world and the day in the way in the sa\n"
     ]
    }
   ],
   "source": [
    "print(generate_text(300,0.2))"
   ]
  },
  {
   "cell_type": "code",
   "execution_count": 57,
   "id": "cf0e6ce4-6b15-4b99-a442-af2623bc854e",
   "metadata": {},
   "outputs": [
    {
     "name": "stdout",
     "output_type": "stream",
     "text": [
      "one becomes a poet.\n",
      "i heard what you said. i’m not and her a things without him and this was the strength, the strange is a sare of the part of the strength. i didn't be a things and friends of the strength of the feeling of someone of the more is a happiness in the day in the same of the way is the things and the strange of the bad start is a sent\n"
     ]
    }
   ],
   "source": [
    "print(generate_text(300,0.3))"
   ]
  },
  {
   "cell_type": "code",
   "execution_count": 58,
   "id": "9f8d6837-a09a-4d1b-88ee-ebb02f771a0e",
   "metadata": {},
   "outputs": [
    {
     "name": "stdout",
     "output_type": "stream",
     "text": [
      "roded ape on borrowed motions and borrowed time, and the still when i want's a winden. i didn't go one is a of the me. these maybe the one ssucks why saying out really were simple. i didn't know her think the great he at that i can't want theme happens at the same the night is a time magptionsand he keep someone diesto glack like mater.\n",
      "i have bein\n"
     ]
    }
   ],
   "source": [
    "print(generate_text(300,0.8))"
   ]
  },
  {
   "cell_type": "code",
   "execution_count": 59,
   "id": "ee3fdd6a-dbdf-40b3-a6dc-fb92c962f9fe",
   "metadata": {},
   "outputs": [
    {
     "name": "stdout",
     "output_type": "stream",
     "text": [
      "ay, many will rise above their believed limitationst. and a hard to sayingat god to she leaving it-cramming a kiss, years with the whole lattle mentities.\"do not fihtity down and some i am at onye thromader to him, exacum to love you. i can't wavet and feel appremision it. (and you love it starned stuma thickings of eichunizity without the will cri\n"
     ]
    }
   ],
   "source": [
    "print(generate_text(300,1))"
   ]
  },
  {
   "cell_type": "code",
   "execution_count": 63,
   "id": "c2688f41-21b5-420a-8968-0812713e9150",
   "metadata": {},
   "outputs": [
    {
     "name": "stdout",
     "output_type": "stream",
     "text": [
      " really are.\n",
      "i love you more than i think i should the love one any love is a happience it can think the confirity is not that my seciesion is the right can be this way still thought if you need to wishures and it's not no more believe anyone when a practure back that he step and a trying to ask a part of love of the kind to a feet the days that ha\n"
     ]
    }
   ],
   "source": [
    "print(generate_text(300,0.6))"
   ]
  },
  {
   "cell_type": "code",
   "execution_count": 70,
   "id": "68498f76-03bc-46f7-8787-89bab4c0740f",
   "metadata": {},
   "outputs": [
    {
     "name": "stdout",
     "output_type": "stream",
     "text": [
      "woman with love of you, fill her above the brim with the still of the strength. i was the world. i think the beauty in a dark of the right to sit and enough the wordd of time i will say that you will be not better that think and the things are going to think the start is no are it. i didn't go here and the world the pressed every stand that is what\n"
     ]
    }
   ],
   "source": [
    "print(generate_text(300,0.5))"
   ]
  },
  {
   "cell_type": "code",
   "execution_count": 71,
   "id": "4425d815-5f55-44a3-a4d4-4ad885ab4ec9",
   "metadata": {},
   "outputs": [
    {
     "name": "stdout",
     "output_type": "stream",
     "text": [
      "ckly. \"let me know when you want to start practice of my thinking she was always was it without it we want take perfectity. i don't want when it was real died to think a prawh. the gangs and a liary are in the my past, the seepoomeess of your eyes or the one of the world. i know you.\n",
      "she was something about now in the same its a stit too my reason \n"
     ]
    }
   ],
   "source": [
    "print(generate_text(300,0.7))"
   ]
  },
  {
   "cell_type": "code",
   "execution_count": 74,
   "id": "6eeae0ff-1301-439d-b1ca-bc64a4852ffd",
   "metadata": {},
   "outputs": [
    {
     "name": "stdout",
     "output_type": "stream",
     "text": [
      "ey then applied this word to the person they consittle and he loved you. i had not see the stupid it was that someone and they is not the best of the day of the parent of a tereday. the soul of someone has a thought in the way i don't know what i was a self of the strength. i was a senters and the things in the same of the most is a life is no sarr\n"
     ]
    }
   ],
   "source": [
    "print(generate_text(300,0.4))"
   ]
  },
  {
   "cell_type": "markdown",
   "id": "3b81456e-3135-4c7a-8e9c-f0c0a8393b87",
   "metadata": {},
   "source": [
    "# End"
   ]
  }
 ],
 "metadata": {
  "kernelspec": {
   "display_name": "Python 3 (ipykernel)",
   "language": "python",
   "name": "python3"
  },
  "language_info": {
   "codemirror_mode": {
    "name": "ipython",
    "version": 3
   },
   "file_extension": ".py",
   "mimetype": "text/x-python",
   "name": "python",
   "nbconvert_exporter": "python",
   "pygments_lexer": "ipython3",
   "version": "3.12.4"
  }
 },
 "nbformat": 4,
 "nbformat_minor": 5
}
